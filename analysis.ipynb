{
 "cells": [
  {
   "cell_type": "code",
   "execution_count": 1,
   "metadata": {},
   "outputs": [],
   "source": [
    "from datetime import datetime\n",
    "import calendar\n",
    "import pandas as pd"
   ]
  },
  {
   "cell_type": "code",
   "execution_count": 2,
   "metadata": {},
   "outputs": [],
   "source": [
    "df = pd.read_csv('clean_data.csv')"
   ]
  },
  {
   "cell_type": "code",
   "execution_count": 3,
   "metadata": {},
   "outputs": [
    {
     "data": {
      "text/plain": [
       "date            object\n",
       "energy         float64\n",
       "time_hours       int64\n",
       "time_period     object\n",
       "moth            object\n",
       "dtype: object"
      ]
     },
     "execution_count": 3,
     "metadata": {},
     "output_type": "execute_result"
    }
   ],
   "source": [
    "df.dtypes"
   ]
  },
  {
   "cell_type": "code",
   "execution_count": 4,
   "metadata": {},
   "outputs": [
    {
     "data": {
      "text/html": [
       "<div>\n",
       "<style scoped>\n",
       "    .dataframe tbody tr th:only-of-type {\n",
       "        vertical-align: middle;\n",
       "    }\n",
       "\n",
       "    .dataframe tbody tr th {\n",
       "        vertical-align: top;\n",
       "    }\n",
       "\n",
       "    .dataframe thead th {\n",
       "        text-align: right;\n",
       "    }\n",
       "</style>\n",
       "<table border=\"1\" class=\"dataframe\">\n",
       "  <thead>\n",
       "    <tr style=\"text-align: right;\">\n",
       "      <th></th>\n",
       "      <th>date</th>\n",
       "      <th>energy</th>\n",
       "      <th>time_hours</th>\n",
       "      <th>time_period</th>\n",
       "      <th>moth</th>\n",
       "    </tr>\n",
       "  </thead>\n",
       "  <tbody>\n",
       "    <tr>\n",
       "      <th>0</th>\n",
       "      <td>2014-03-24</td>\n",
       "      <td>0.384</td>\n",
       "      <td>3</td>\n",
       "      <td>PM</td>\n",
       "      <td>March</td>\n",
       "    </tr>\n",
       "    <tr>\n",
       "      <th>1</th>\n",
       "      <td>2014-08-15</td>\n",
       "      <td>1.201</td>\n",
       "      <td>5</td>\n",
       "      <td>AM</td>\n",
       "      <td>August</td>\n",
       "    </tr>\n",
       "    <tr>\n",
       "      <th>2</th>\n",
       "      <td>2014-03-20</td>\n",
       "      <td>1.523</td>\n",
       "      <td>8</td>\n",
       "      <td>PM</td>\n",
       "      <td>March</td>\n",
       "    </tr>\n",
       "    <tr>\n",
       "      <th>3</th>\n",
       "      <td>2014-04-23</td>\n",
       "      <td>0.424</td>\n",
       "      <td>6</td>\n",
       "      <td>PM</td>\n",
       "      <td>April</td>\n",
       "    </tr>\n",
       "    <tr>\n",
       "      <th>4</th>\n",
       "      <td>2014-12-19</td>\n",
       "      <td>0.209</td>\n",
       "      <td>1</td>\n",
       "      <td>AM</td>\n",
       "      <td>December</td>\n",
       "    </tr>\n",
       "  </tbody>\n",
       "</table>\n",
       "</div>"
      ],
      "text/plain": [
       "         date  energy  time_hours time_period      moth\n",
       "0  2014-03-24   0.384           3          PM     March\n",
       "1  2014-08-15   1.201           5          AM    August\n",
       "2  2014-03-20   1.523           8          PM     March\n",
       "3  2014-04-23   0.424           6          PM     April\n",
       "4  2014-12-19   0.209           1          AM  December"
      ]
     },
     "execution_count": 4,
     "metadata": {},
     "output_type": "execute_result"
    }
   ],
   "source": [
    "df.head()"
   ]
  },
  {
   "cell_type": "code",
   "execution_count": 5,
   "metadata": {},
   "outputs": [
    {
     "data": {
      "text/plain": [
       "(8760, 5)"
      ]
     },
     "execution_count": 5,
     "metadata": {},
     "output_type": "execute_result"
    }
   ],
   "source": [
    "df.shape"
   ]
  },
  {
   "cell_type": "markdown",
   "metadata": {},
   "source": [
    "## What is your average hourly electricity usage?"
   ]
  },
  {
   "cell_type": "code",
   "execution_count": 12,
   "metadata": {},
   "outputs": [
    {
     "name": "stdout",
     "output_type": "stream",
     "text": [
      "The average hourly electricity usage is 78.2 kwh\n"
     ]
    }
   ],
   "source": [
    "energy_average = round(df['energy'].mean(), 3) * 100\n",
    "print(f\"The average hourly electricity usage is {energy_average} kwh\")"
   ]
  },
  {
   "cell_type": "markdown",
   "metadata": {},
   "source": [
    "## What is your average electricity usage per hour in February?"
   ]
  },
  {
   "cell_type": "code",
   "execution_count": 14,
   "metadata": {},
   "outputs": [],
   "source": [
    "february_df = df[df['moth'] == \"February\"]"
   ]
  },
  {
   "cell_type": "code",
   "execution_count": 15,
   "metadata": {},
   "outputs": [
    {
     "data": {
      "text/html": [
       "<div>\n",
       "<style scoped>\n",
       "    .dataframe tbody tr th:only-of-type {\n",
       "        vertical-align: middle;\n",
       "    }\n",
       "\n",
       "    .dataframe tbody tr th {\n",
       "        vertical-align: top;\n",
       "    }\n",
       "\n",
       "    .dataframe thead th {\n",
       "        text-align: right;\n",
       "    }\n",
       "</style>\n",
       "<table border=\"1\" class=\"dataframe\">\n",
       "  <thead>\n",
       "    <tr style=\"text-align: right;\">\n",
       "      <th></th>\n",
       "      <th>date</th>\n",
       "      <th>energy</th>\n",
       "      <th>time_hours</th>\n",
       "      <th>time_period</th>\n",
       "      <th>moth</th>\n",
       "    </tr>\n",
       "  </thead>\n",
       "  <tbody>\n",
       "    <tr>\n",
       "      <th>10</th>\n",
       "      <td>2014-02-11</td>\n",
       "      <td>0.509</td>\n",
       "      <td>4</td>\n",
       "      <td>PM</td>\n",
       "      <td>February</td>\n",
       "    </tr>\n",
       "    <tr>\n",
       "      <th>14</th>\n",
       "      <td>2014-02-04</td>\n",
       "      <td>0.283</td>\n",
       "      <td>3</td>\n",
       "      <td>AM</td>\n",
       "      <td>February</td>\n",
       "    </tr>\n",
       "    <tr>\n",
       "      <th>22</th>\n",
       "      <td>2014-02-11</td>\n",
       "      <td>0.547</td>\n",
       "      <td>1</td>\n",
       "      <td>PM</td>\n",
       "      <td>February</td>\n",
       "    </tr>\n",
       "    <tr>\n",
       "      <th>56</th>\n",
       "      <td>2014-02-13</td>\n",
       "      <td>0.432</td>\n",
       "      <td>1</td>\n",
       "      <td>PM</td>\n",
       "      <td>February</td>\n",
       "    </tr>\n",
       "    <tr>\n",
       "      <th>59</th>\n",
       "      <td>2014-02-13</td>\n",
       "      <td>0.594</td>\n",
       "      <td>12</td>\n",
       "      <td>PM</td>\n",
       "      <td>February</td>\n",
       "    </tr>\n",
       "  </tbody>\n",
       "</table>\n",
       "</div>"
      ],
      "text/plain": [
       "          date  energy  time_hours time_period      moth\n",
       "10  2014-02-11   0.509           4          PM  February\n",
       "14  2014-02-04   0.283           3          AM  February\n",
       "22  2014-02-11   0.547           1          PM  February\n",
       "56  2014-02-13   0.432           1          PM  February\n",
       "59  2014-02-13   0.594          12          PM  February"
      ]
     },
     "execution_count": 15,
     "metadata": {},
     "output_type": "execute_result"
    }
   ],
   "source": [
    "february_df.head()"
   ]
  },
  {
   "cell_type": "code",
   "execution_count": 16,
   "metadata": {},
   "outputs": [
    {
     "name": "stdout",
     "output_type": "stream",
     "text": [
      "The average hourly electricity usage is 83.3 kwh\n"
     ]
    }
   ],
   "source": [
    "energy_average = round(february_df['energy'].mean(), 3) * 100\n",
    "print(f\"The average hourly electricity usage is {energy_average} kwh\")"
   ]
  },
  {
   "cell_type": "markdown",
   "metadata": {},
   "source": [
    "## Which day of the week has the highest average usage?"
   ]
  },
  {
   "cell_type": "code",
   "execution_count": 17,
   "metadata": {},
   "outputs": [],
   "source": [
    "def get_weekday_name(date_string):\n",
    "    weekday_number = pd.to_datetime(date_string).weekday()\n",
    "    weekday_name = calendar.day_name[weekday_number]\n",
    "    return weekday_name"
   ]
  },
  {
   "cell_type": "code",
   "execution_count": 18,
   "metadata": {},
   "outputs": [],
   "source": [
    "df['weekday'] = df['date'].apply(get_weekday_name)"
   ]
  },
  {
   "cell_type": "code",
   "execution_count": 19,
   "metadata": {},
   "outputs": [
    {
     "data": {
      "text/html": [
       "<div>\n",
       "<style scoped>\n",
       "    .dataframe tbody tr th:only-of-type {\n",
       "        vertical-align: middle;\n",
       "    }\n",
       "\n",
       "    .dataframe tbody tr th {\n",
       "        vertical-align: top;\n",
       "    }\n",
       "\n",
       "    .dataframe thead th {\n",
       "        text-align: right;\n",
       "    }\n",
       "</style>\n",
       "<table border=\"1\" class=\"dataframe\">\n",
       "  <thead>\n",
       "    <tr style=\"text-align: right;\">\n",
       "      <th></th>\n",
       "      <th>date</th>\n",
       "      <th>energy</th>\n",
       "      <th>time_hours</th>\n",
       "      <th>time_period</th>\n",
       "      <th>moth</th>\n",
       "      <th>weekday</th>\n",
       "    </tr>\n",
       "  </thead>\n",
       "  <tbody>\n",
       "    <tr>\n",
       "      <th>0</th>\n",
       "      <td>2014-03-24</td>\n",
       "      <td>0.384</td>\n",
       "      <td>3</td>\n",
       "      <td>PM</td>\n",
       "      <td>March</td>\n",
       "      <td>Monday</td>\n",
       "    </tr>\n",
       "    <tr>\n",
       "      <th>1</th>\n",
       "      <td>2014-08-15</td>\n",
       "      <td>1.201</td>\n",
       "      <td>5</td>\n",
       "      <td>AM</td>\n",
       "      <td>August</td>\n",
       "      <td>Friday</td>\n",
       "    </tr>\n",
       "    <tr>\n",
       "      <th>2</th>\n",
       "      <td>2014-03-20</td>\n",
       "      <td>1.523</td>\n",
       "      <td>8</td>\n",
       "      <td>PM</td>\n",
       "      <td>March</td>\n",
       "      <td>Thursday</td>\n",
       "    </tr>\n",
       "    <tr>\n",
       "      <th>3</th>\n",
       "      <td>2014-04-23</td>\n",
       "      <td>0.424</td>\n",
       "      <td>6</td>\n",
       "      <td>PM</td>\n",
       "      <td>April</td>\n",
       "      <td>Wednesday</td>\n",
       "    </tr>\n",
       "    <tr>\n",
       "      <th>4</th>\n",
       "      <td>2014-12-19</td>\n",
       "      <td>0.209</td>\n",
       "      <td>1</td>\n",
       "      <td>AM</td>\n",
       "      <td>December</td>\n",
       "      <td>Friday</td>\n",
       "    </tr>\n",
       "  </tbody>\n",
       "</table>\n",
       "</div>"
      ],
      "text/plain": [
       "         date  energy  time_hours time_period      moth    weekday\n",
       "0  2014-03-24   0.384           3          PM     March     Monday\n",
       "1  2014-08-15   1.201           5          AM    August     Friday\n",
       "2  2014-03-20   1.523           8          PM     March   Thursday\n",
       "3  2014-04-23   0.424           6          PM     April  Wednesday\n",
       "4  2014-12-19   0.209           1          AM  December     Friday"
      ]
     },
     "execution_count": 19,
     "metadata": {},
     "output_type": "execute_result"
    }
   ],
   "source": [
    "df.head()"
   ]
  },
  {
   "cell_type": "code",
   "execution_count": 20,
   "metadata": {},
   "outputs": [],
   "source": [
    "days_and_energies = df.groupby('weekday')['energy'].mean().to_dict()\n",
    "highest_energy_day = max(days_and_energies, key=days_and_energies.get)"
   ]
  },
  {
   "cell_type": "code",
   "execution_count": 21,
   "metadata": {},
   "outputs": [
    {
     "data": {
      "text/plain": [
       "'Sunday'"
      ]
     },
     "execution_count": 21,
     "metadata": {},
     "output_type": "execute_result"
    }
   ],
   "source": [
    "\"The highest average usagehighest_energy_day)"
   ]
  },
  {
   "cell_type": "code",
   "execution_count": null,
   "metadata": {},
   "outputs": [],
   "source": []
  }
 ],
 "metadata": {
  "kernelspec": {
   "display_name": "Python 3",
   "language": "python",
   "name": "python3"
  },
  "language_info": {
   "codemirror_mode": {
    "name": "ipython",
    "version": 3
   },
   "file_extension": ".py",
   "mimetype": "text/x-python",
   "name": "python",
   "nbconvert_exporter": "python",
   "pygments_lexer": "ipython3",
   "version": "3.8.3"
  }
 },
 "nbformat": 4,
 "nbformat_minor": 4
}
