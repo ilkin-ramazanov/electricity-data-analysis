{
 "cells": [
  {
   "cell_type": "code",
   "execution_count": 2,
   "metadata": {},
   "outputs": [],
   "source": [
    "from datetime import datetime\n",
    "from collections import namedtuple\n",
    "import calendar\n",
    "import re\n",
    "import pandas as pd"
   ]
  },
  {
   "cell_type": "markdown",
   "metadata": {},
   "source": [
    "## Reading data from file"
   ]
  },
  {
   "cell_type": "code",
   "execution_count": 3,
   "metadata": {},
   "outputs": [],
   "source": [
    "FILENAME = \"electro_data.csv\"\n",
    "\n",
    "df = pd.read_csv(FILENAME, header=None)"
   ]
  },
  {
   "cell_type": "code",
   "execution_count": 4,
   "metadata": {},
   "outputs": [
    {
     "data": {
      "text/html": [
       "<div>\n",
       "<style scoped>\n",
       "    .dataframe tbody tr th:only-of-type {\n",
       "        vertical-align: middle;\n",
       "    }\n",
       "\n",
       "    .dataframe tbody tr th {\n",
       "        vertical-align: top;\n",
       "    }\n",
       "\n",
       "    .dataframe thead th {\n",
       "        text-align: right;\n",
       "    }\n",
       "</style>\n",
       "<table border=\"1\" class=\"dataframe\">\n",
       "  <thead>\n",
       "    <tr style=\"text-align: right;\">\n",
       "      <th></th>\n",
       "      <th>0</th>\n",
       "    </tr>\n",
       "  </thead>\n",
       "  <tbody>\n",
       "    <tr>\n",
       "      <th>0</th>\n",
       "      <td>3 PM  Mon 24th-Mar-2014___0.384 kwh</td>\n",
       "    </tr>\n",
       "    <tr>\n",
       "      <th>1</th>\n",
       "      <td>5AM  15-Aug-2014___1.201  kwh</td>\n",
       "    </tr>\n",
       "    <tr>\n",
       "      <th>2</th>\n",
       "      <td>__8PM Thu 20-Mar-2014____1.523 kwh</td>\n",
       "    </tr>\n",
       "    <tr>\n",
       "      <th>3</th>\n",
       "      <td>6PM  23rd-Apr-2014___0.424  kwh</td>\n",
       "    </tr>\n",
       "    <tr>\n",
       "      <th>4</th>\n",
       "      <td>_1AM  Friday 19th-Dec-2014___0.209  kwh</td>\n",
       "    </tr>\n",
       "  </tbody>\n",
       "</table>\n",
       "</div>"
      ],
      "text/plain": [
       "                                           0\n",
       "0      3 PM  Mon 24th-Mar-2014___0.384 kwh  \n",
       "1             5AM  15-Aug-2014___1.201  kwh \n",
       "2       __8PM Thu 20-Mar-2014____1.523 kwh  \n",
       "3            6PM  23rd-Apr-2014___0.424  kwh\n",
       "4  _1AM  Friday 19th-Dec-2014___0.209  kwh  "
      ]
     },
     "execution_count": 4,
     "metadata": {},
     "output_type": "execute_result"
    }
   ],
   "source": [
    "df.head()"
   ]
  },
  {
   "cell_type": "markdown",
   "metadata": {},
   "source": [
    "## Separating data"
   ]
  },
  {
   "cell_type": "code",
   "execution_count": 5,
   "metadata": {},
   "outputs": [],
   "source": [
    "data_series = df.iloc[:, 0]"
   ]
  },
  {
   "cell_type": "code",
   "execution_count": 6,
   "metadata": {},
   "outputs": [
    {
     "data": {
      "text/plain": [
       "0           3 PM  Mon 24th-Mar-2014___0.384 kwh  \n",
       "1                  5AM  15-Aug-2014___1.201  kwh \n",
       "2            __8PM Thu 20-Mar-2014____1.523 kwh  \n",
       "3                 6PM  23rd-Apr-2014___0.424  kwh\n",
       "4       _1AM  Friday 19th-Dec-2014___0.209  kwh  \n",
       "                          ...                    \n",
       "8755           _1AM  Fri 07th-Nov-2014_0.084 kwh \n",
       "8756                  _6AM 20-May-2014__1.027 kwh\n",
       "8757     __2 AM  Tuesday 8th-Apr-2014___0.052 kwh\n",
       "8758              9 PM 27th-Jan-2014_1.428  kwh  \n",
       "8759            _12 PM 25th-Aug-2014_0.528  kwh  \n",
       "Name: 0, Length: 8760, dtype: object"
      ]
     },
     "execution_count": 6,
     "metadata": {},
     "output_type": "execute_result"
    }
   ],
   "source": [
    "data_series"
   ]
  },
  {
   "cell_type": "code",
   "execution_count": 7,
   "metadata": {},
   "outputs": [],
   "source": [
    "data_series = data_series.str.replace('_', ' ').str.strip()"
   ]
  },
  {
   "cell_type": "code",
   "execution_count": 8,
   "metadata": {},
   "outputs": [
    {
     "data": {
      "text/plain": [
       "0       3 PM  Mon 24th-Mar-2014   0.384 kwh\n",
       "1             5AM  15-Aug-2014   1.201  kwh\n",
       "2          8PM Thu 20-Mar-2014    1.523 kwh\n",
       "3           6PM  23rd-Apr-2014   0.424  kwh\n",
       "4    1AM  Friday 19th-Dec-2014   0.209  kwh\n",
       "Name: 0, dtype: object"
      ]
     },
     "execution_count": 8,
     "metadata": {},
     "output_type": "execute_result"
    }
   ],
   "source": [
    "data_series.head()"
   ]
  },
  {
   "cell_type": "code",
   "execution_count": 29,
   "metadata": {},
   "outputs": [],
   "source": [
    "TIME_PATTERN = re.compile(r'(\\d+)(\\s+|'')(AM|PM)')\n",
    "ENERGY_PATTERN = re.compile(r'(\\d{1}.\\d+)(\\s+|'')kwh')\n",
    "\n",
    "Electricity = namedtuple('Electricity', ['time', 'date', 'energy'])\n",
    "\n",
    "def extract_data(data_row):\n",
    "    time = re.match(TIME_PATTERN, data_row).group()\n",
    "    date = max(data_row.split(), key=len)\n",
    "    energy = re.search(ENERGY_PATTERN, data_row).group()\n",
    "    electricity_data = Electricity(time=time, date=date, energy=energy)\n",
    "    return electricity_data"
   ]
  },
  {
   "cell_type": "code",
   "execution_count": 30,
   "metadata": {
    "scrolled": true
   },
   "outputs": [],
   "source": [
    "electro_dataset = [extract_data(data_row) for data_row in data_series]\n",
    "electro_df = pd.DataFrame(electro_dataset)"
   ]
  },
  {
   "cell_type": "code",
   "execution_count": 31,
   "metadata": {},
   "outputs": [
    {
     "data": {
      "text/html": [
       "<div>\n",
       "<style scoped>\n",
       "    .dataframe tbody tr th:only-of-type {\n",
       "        vertical-align: middle;\n",
       "    }\n",
       "\n",
       "    .dataframe tbody tr th {\n",
       "        vertical-align: top;\n",
       "    }\n",
       "\n",
       "    .dataframe thead th {\n",
       "        text-align: right;\n",
       "    }\n",
       "</style>\n",
       "<table border=\"1\" class=\"dataframe\">\n",
       "  <thead>\n",
       "    <tr style=\"text-align: right;\">\n",
       "      <th></th>\n",
       "      <th>time</th>\n",
       "      <th>date</th>\n",
       "      <th>energy</th>\n",
       "    </tr>\n",
       "  </thead>\n",
       "  <tbody>\n",
       "    <tr>\n",
       "      <th>0</th>\n",
       "      <td>3 PM</td>\n",
       "      <td>24th-Mar-2014</td>\n",
       "      <td>0.384 kwh</td>\n",
       "    </tr>\n",
       "    <tr>\n",
       "      <th>1</th>\n",
       "      <td>5AM</td>\n",
       "      <td>15-Aug-2014</td>\n",
       "      <td>1.201  kwh</td>\n",
       "    </tr>\n",
       "    <tr>\n",
       "      <th>2</th>\n",
       "      <td>8PM</td>\n",
       "      <td>20-Mar-2014</td>\n",
       "      <td>1.523 kwh</td>\n",
       "    </tr>\n",
       "    <tr>\n",
       "      <th>3</th>\n",
       "      <td>6PM</td>\n",
       "      <td>23rd-Apr-2014</td>\n",
       "      <td>0.424  kwh</td>\n",
       "    </tr>\n",
       "    <tr>\n",
       "      <th>4</th>\n",
       "      <td>1AM</td>\n",
       "      <td>19th-Dec-2014</td>\n",
       "      <td>0.209  kwh</td>\n",
       "    </tr>\n",
       "  </tbody>\n",
       "</table>\n",
       "</div>"
      ],
      "text/plain": [
       "   time           date      energy\n",
       "0  3 PM  24th-Mar-2014   0.384 kwh\n",
       "1   5AM    15-Aug-2014  1.201  kwh\n",
       "2   8PM    20-Mar-2014   1.523 kwh\n",
       "3   6PM  23rd-Apr-2014  0.424  kwh\n",
       "4   1AM  19th-Dec-2014  0.209  kwh"
      ]
     },
     "execution_count": 31,
     "metadata": {},
     "output_type": "execute_result"
    }
   ],
   "source": [
    "electro_df.head()"
   ]
  },
  {
   "cell_type": "markdown",
   "metadata": {},
   "source": [
    "## Cleaning energy column"
   ]
  },
  {
   "cell_type": "code",
   "execution_count": 32,
   "metadata": {},
   "outputs": [],
   "source": [
    "electro_df['energy'] = electro_df['energy'].str.split('kwh').str[0].astype(float)"
   ]
  },
  {
   "cell_type": "code",
   "execution_count": 33,
   "metadata": {},
   "outputs": [
    {
     "data": {
      "text/plain": [
       "0    0.384\n",
       "1    1.201\n",
       "2    1.523\n",
       "3    0.424\n",
       "4    0.209\n",
       "Name: energy, dtype: float64"
      ]
     },
     "execution_count": 33,
     "metadata": {},
     "output_type": "execute_result"
    }
   ],
   "source": [
    "electro_df['energy'].head()"
   ]
  },
  {
   "cell_type": "markdown",
   "metadata": {},
   "source": [
    "## Cleaning date column"
   ]
  },
  {
   "cell_type": "code",
   "execution_count": 34,
   "metadata": {},
   "outputs": [],
   "source": [
    "def format_data(data):\n",
    "    if len(data) == 1:\n",
    "        return f'0{data}'\n",
    "    return data"
   ]
  },
  {
   "cell_type": "code",
   "execution_count": 35,
   "metadata": {},
   "outputs": [],
   "source": [
    "dirty_days = electro_df['date'].str.split('-').str[0]\n",
    "days_unformated = dirty_days.apply(lambda day: re.match(r'\\d+', day).group())\n",
    "days = [format_day(day) for day in days_unformated]"
   ]
  },
  {
   "cell_type": "code",
   "execution_count": 36,
   "metadata": {},
   "outputs": [],
   "source": [
    "# def generate_short_month_names():\n",
    "#     full_month_names = [calendar.month_name[i] for i in range(1, 13)]\n",
    "#     short_month_names = [month[:3] for month in full_month_names]\n",
    "#     return short_month_names"
   ]
  },
  {
   "cell_type": "code",
   "execution_count": 37,
   "metadata": {},
   "outputs": [],
   "source": [
    "MONTH_NAMES = ['Jan', 'Feb', 'Mar', 'Apr', 'May', 'Jun', 'Jul', 'Aug', 'Sep', 'Oct', 'Nov', 'Dec']\n",
    "\n",
    "dirty_months = electro_df['date'].str.split('-').str[1]\n",
    "months_unformated = dirty_months.apply(lambda month: str(MONTH_NAMES.index(month) + 1))\n",
    "months = [format_data(month) for month in months_unformated]"
   ]
  },
  {
   "cell_type": "code",
   "execution_count": 38,
   "metadata": {},
   "outputs": [],
   "source": [
    "years = electro_df['date'].str.split('-').str[2]"
   ]
  },
  {
   "cell_type": "code",
   "execution_count": 39,
   "metadata": {},
   "outputs": [],
   "source": [
    "DATE_JOINER = '-'\n",
    "dates = []\n",
    "\n",
    "for day, month, year in zip(days, months, years):\n",
    "    date_string = DATE_JOINER.join((day, month, year))\n",
    "    date = datetime.strptime(date_string, '%d-%m-%Y')\n",
    "    dates.append(date)"
   ]
  },
  {
   "cell_type": "code",
   "execution_count": 40,
   "metadata": {},
   "outputs": [],
   "source": [
    "electro_df['date'] = dates"
   ]
  },
  {
   "cell_type": "code",
   "execution_count": 41,
   "metadata": {},
   "outputs": [
    {
     "data": {
      "text/html": [
       "<div>\n",
       "<style scoped>\n",
       "    .dataframe tbody tr th:only-of-type {\n",
       "        vertical-align: middle;\n",
       "    }\n",
       "\n",
       "    .dataframe tbody tr th {\n",
       "        vertical-align: top;\n",
       "    }\n",
       "\n",
       "    .dataframe thead th {\n",
       "        text-align: right;\n",
       "    }\n",
       "</style>\n",
       "<table border=\"1\" class=\"dataframe\">\n",
       "  <thead>\n",
       "    <tr style=\"text-align: right;\">\n",
       "      <th></th>\n",
       "      <th>time</th>\n",
       "      <th>date</th>\n",
       "      <th>energy</th>\n",
       "    </tr>\n",
       "  </thead>\n",
       "  <tbody>\n",
       "    <tr>\n",
       "      <th>0</th>\n",
       "      <td>3 PM</td>\n",
       "      <td>2014-03-24</td>\n",
       "      <td>0.384</td>\n",
       "    </tr>\n",
       "    <tr>\n",
       "      <th>1</th>\n",
       "      <td>5AM</td>\n",
       "      <td>2014-08-15</td>\n",
       "      <td>1.201</td>\n",
       "    </tr>\n",
       "    <tr>\n",
       "      <th>2</th>\n",
       "      <td>8PM</td>\n",
       "      <td>2014-03-20</td>\n",
       "      <td>1.523</td>\n",
       "    </tr>\n",
       "    <tr>\n",
       "      <th>3</th>\n",
       "      <td>6PM</td>\n",
       "      <td>2014-04-23</td>\n",
       "      <td>0.424</td>\n",
       "    </tr>\n",
       "    <tr>\n",
       "      <th>4</th>\n",
       "      <td>1AM</td>\n",
       "      <td>2014-12-19</td>\n",
       "      <td>0.209</td>\n",
       "    </tr>\n",
       "  </tbody>\n",
       "</table>\n",
       "</div>"
      ],
      "text/plain": [
       "   time       date  energy\n",
       "0  3 PM 2014-03-24   0.384\n",
       "1   5AM 2014-08-15   1.201\n",
       "2   8PM 2014-03-20   1.523\n",
       "3   6PM 2014-04-23   0.424\n",
       "4   1AM 2014-12-19   0.209"
      ]
     },
     "execution_count": 41,
     "metadata": {},
     "output_type": "execute_result"
    }
   ],
   "source": [
    "electro_df.head()"
   ]
  },
  {
   "cell_type": "markdown",
   "metadata": {},
   "source": [
    "## Cleaning time column"
   ]
  },
  {
   "cell_type": "code",
   "execution_count": 42,
   "metadata": {},
   "outputs": [
    {
     "data": {
      "text/plain": [
       "0        3 PM\n",
       "1         5AM\n",
       "2         8PM\n",
       "3         6PM\n",
       "4         1AM\n",
       "        ...  \n",
       "8755      1AM\n",
       "8756      6AM\n",
       "8757     2 AM\n",
       "8758     9 PM\n",
       "8759    12 PM\n",
       "Name: time, Length: 8760, dtype: object"
      ]
     },
     "execution_count": 42,
     "metadata": {},
     "output_type": "execute_result"
    }
   ],
   "source": [
    "electro_df['time']"
   ]
  },
  {
   "cell_type": "code",
   "execution_count": 43,
   "metadata": {},
   "outputs": [],
   "source": [
    "PERIOD_PATTERN = re.compile(r\"[a-zA-Z]+\")\n",
    "HOURS_PATTERN = re.compile(r\"\\d+\")"
   ]
  },
  {
   "cell_type": "code",
   "execution_count": 44,
   "metadata": {},
   "outputs": [],
   "source": [
    "periods = []\n",
    "hours = []\n",
    "\n",
    "for time in electro_df['time']:\n",
    "    period = re.search(PERIOD_PATTERN, time).group(0)\n",
    "    hour = re.search(HOURS_PATTERN, time).group()\n",
    "    periods.append(period)\n",
    "    hours.append(hour)"
   ]
  },
  {
   "cell_type": "code",
   "execution_count": 45,
   "metadata": {},
   "outputs": [],
   "source": [
    "electro_df['time_hours'] = hours\n",
    "electro_df['time_period'] = periods"
   ]
  },
  {
   "cell_type": "code",
   "execution_count": 46,
   "metadata": {},
   "outputs": [
    {
     "data": {
      "text/html": [
       "<div>\n",
       "<style scoped>\n",
       "    .dataframe tbody tr th:only-of-type {\n",
       "        vertical-align: middle;\n",
       "    }\n",
       "\n",
       "    .dataframe tbody tr th {\n",
       "        vertical-align: top;\n",
       "    }\n",
       "\n",
       "    .dataframe thead th {\n",
       "        text-align: right;\n",
       "    }\n",
       "</style>\n",
       "<table border=\"1\" class=\"dataframe\">\n",
       "  <thead>\n",
       "    <tr style=\"text-align: right;\">\n",
       "      <th></th>\n",
       "      <th>time</th>\n",
       "      <th>date</th>\n",
       "      <th>energy</th>\n",
       "      <th>time_hours</th>\n",
       "      <th>time_period</th>\n",
       "    </tr>\n",
       "  </thead>\n",
       "  <tbody>\n",
       "    <tr>\n",
       "      <th>0</th>\n",
       "      <td>3 PM</td>\n",
       "      <td>2014-03-24</td>\n",
       "      <td>0.384</td>\n",
       "      <td>3</td>\n",
       "      <td>PM</td>\n",
       "    </tr>\n",
       "    <tr>\n",
       "      <th>1</th>\n",
       "      <td>5AM</td>\n",
       "      <td>2014-08-15</td>\n",
       "      <td>1.201</td>\n",
       "      <td>5</td>\n",
       "      <td>AM</td>\n",
       "    </tr>\n",
       "    <tr>\n",
       "      <th>2</th>\n",
       "      <td>8PM</td>\n",
       "      <td>2014-03-20</td>\n",
       "      <td>1.523</td>\n",
       "      <td>8</td>\n",
       "      <td>PM</td>\n",
       "    </tr>\n",
       "    <tr>\n",
       "      <th>3</th>\n",
       "      <td>6PM</td>\n",
       "      <td>2014-04-23</td>\n",
       "      <td>0.424</td>\n",
       "      <td>6</td>\n",
       "      <td>PM</td>\n",
       "    </tr>\n",
       "    <tr>\n",
       "      <th>4</th>\n",
       "      <td>1AM</td>\n",
       "      <td>2014-12-19</td>\n",
       "      <td>0.209</td>\n",
       "      <td>1</td>\n",
       "      <td>AM</td>\n",
       "    </tr>\n",
       "  </tbody>\n",
       "</table>\n",
       "</div>"
      ],
      "text/plain": [
       "   time       date  energy time_hours time_period\n",
       "0  3 PM 2014-03-24   0.384          3          PM\n",
       "1   5AM 2014-08-15   1.201          5          AM\n",
       "2   8PM 2014-03-20   1.523          8          PM\n",
       "3   6PM 2014-04-23   0.424          6          PM\n",
       "4   1AM 2014-12-19   0.209          1          AM"
      ]
     },
     "execution_count": 46,
     "metadata": {},
     "output_type": "execute_result"
    }
   ],
   "source": [
    "electro_df.head()"
   ]
  },
  {
   "cell_type": "code",
   "execution_count": 47,
   "metadata": {},
   "outputs": [],
   "source": [
    "electro_df = electro_df.drop('time', axis=1)"
   ]
  },
  {
   "cell_type": "code",
   "execution_count": 48,
   "metadata": {},
   "outputs": [
    {
     "data": {
      "text/html": [
       "<div>\n",
       "<style scoped>\n",
       "    .dataframe tbody tr th:only-of-type {\n",
       "        vertical-align: middle;\n",
       "    }\n",
       "\n",
       "    .dataframe tbody tr th {\n",
       "        vertical-align: top;\n",
       "    }\n",
       "\n",
       "    .dataframe thead th {\n",
       "        text-align: right;\n",
       "    }\n",
       "</style>\n",
       "<table border=\"1\" class=\"dataframe\">\n",
       "  <thead>\n",
       "    <tr style=\"text-align: right;\">\n",
       "      <th></th>\n",
       "      <th>date</th>\n",
       "      <th>energy</th>\n",
       "      <th>time_hours</th>\n",
       "      <th>time_period</th>\n",
       "    </tr>\n",
       "  </thead>\n",
       "  <tbody>\n",
       "    <tr>\n",
       "      <th>0</th>\n",
       "      <td>2014-03-24</td>\n",
       "      <td>0.384</td>\n",
       "      <td>3</td>\n",
       "      <td>PM</td>\n",
       "    </tr>\n",
       "    <tr>\n",
       "      <th>1</th>\n",
       "      <td>2014-08-15</td>\n",
       "      <td>1.201</td>\n",
       "      <td>5</td>\n",
       "      <td>AM</td>\n",
       "    </tr>\n",
       "    <tr>\n",
       "      <th>2</th>\n",
       "      <td>2014-03-20</td>\n",
       "      <td>1.523</td>\n",
       "      <td>8</td>\n",
       "      <td>PM</td>\n",
       "    </tr>\n",
       "    <tr>\n",
       "      <th>3</th>\n",
       "      <td>2014-04-23</td>\n",
       "      <td>0.424</td>\n",
       "      <td>6</td>\n",
       "      <td>PM</td>\n",
       "    </tr>\n",
       "    <tr>\n",
       "      <th>4</th>\n",
       "      <td>2014-12-19</td>\n",
       "      <td>0.209</td>\n",
       "      <td>1</td>\n",
       "      <td>AM</td>\n",
       "    </tr>\n",
       "  </tbody>\n",
       "</table>\n",
       "</div>"
      ],
      "text/plain": [
       "        date  energy time_hours time_period\n",
       "0 2014-03-24   0.384          3          PM\n",
       "1 2014-08-15   1.201          5          AM\n",
       "2 2014-03-20   1.523          8          PM\n",
       "3 2014-04-23   0.424          6          PM\n",
       "4 2014-12-19   0.209          1          AM"
      ]
     },
     "execution_count": 48,
     "metadata": {},
     "output_type": "execute_result"
    }
   ],
   "source": [
    "electro_df.head()"
   ]
  },
  {
   "cell_type": "markdown",
   "metadata": {},
   "source": [
    "## Getting weekday names"
   ]
  },
  {
   "cell_type": "code",
   "execution_count": 49,
   "metadata": {},
   "outputs": [],
   "source": [
    "month_names = [date.strftime(\"%B\") for date in electro_df['date']]"
   ]
  },
  {
   "cell_type": "code",
   "execution_count": 50,
   "metadata": {},
   "outputs": [],
   "source": [
    "electro_df['moth'] = month_names"
   ]
  },
  {
   "cell_type": "code",
   "execution_count": 51,
   "metadata": {},
   "outputs": [
    {
     "data": {
      "text/html": [
       "<div>\n",
       "<style scoped>\n",
       "    .dataframe tbody tr th:only-of-type {\n",
       "        vertical-align: middle;\n",
       "    }\n",
       "\n",
       "    .dataframe tbody tr th {\n",
       "        vertical-align: top;\n",
       "    }\n",
       "\n",
       "    .dataframe thead th {\n",
       "        text-align: right;\n",
       "    }\n",
       "</style>\n",
       "<table border=\"1\" class=\"dataframe\">\n",
       "  <thead>\n",
       "    <tr style=\"text-align: right;\">\n",
       "      <th></th>\n",
       "      <th>date</th>\n",
       "      <th>energy</th>\n",
       "      <th>time_hours</th>\n",
       "      <th>time_period</th>\n",
       "      <th>moth</th>\n",
       "    </tr>\n",
       "  </thead>\n",
       "  <tbody>\n",
       "    <tr>\n",
       "      <th>0</th>\n",
       "      <td>2014-03-24</td>\n",
       "      <td>0.384</td>\n",
       "      <td>3</td>\n",
       "      <td>PM</td>\n",
       "      <td>March</td>\n",
       "    </tr>\n",
       "    <tr>\n",
       "      <th>1</th>\n",
       "      <td>2014-08-15</td>\n",
       "      <td>1.201</td>\n",
       "      <td>5</td>\n",
       "      <td>AM</td>\n",
       "      <td>August</td>\n",
       "    </tr>\n",
       "    <tr>\n",
       "      <th>2</th>\n",
       "      <td>2014-03-20</td>\n",
       "      <td>1.523</td>\n",
       "      <td>8</td>\n",
       "      <td>PM</td>\n",
       "      <td>March</td>\n",
       "    </tr>\n",
       "    <tr>\n",
       "      <th>3</th>\n",
       "      <td>2014-04-23</td>\n",
       "      <td>0.424</td>\n",
       "      <td>6</td>\n",
       "      <td>PM</td>\n",
       "      <td>April</td>\n",
       "    </tr>\n",
       "    <tr>\n",
       "      <th>4</th>\n",
       "      <td>2014-12-19</td>\n",
       "      <td>0.209</td>\n",
       "      <td>1</td>\n",
       "      <td>AM</td>\n",
       "      <td>December</td>\n",
       "    </tr>\n",
       "  </tbody>\n",
       "</table>\n",
       "</div>"
      ],
      "text/plain": [
       "        date  energy time_hours time_period      moth\n",
       "0 2014-03-24   0.384          3          PM     March\n",
       "1 2014-08-15   1.201          5          AM    August\n",
       "2 2014-03-20   1.523          8          PM     March\n",
       "3 2014-04-23   0.424          6          PM     April\n",
       "4 2014-12-19   0.209          1          AM  December"
      ]
     },
     "execution_count": 51,
     "metadata": {},
     "output_type": "execute_result"
    }
   ],
   "source": [
    "electro_df.head()"
   ]
  },
  {
   "cell_type": "code",
   "execution_count": 52,
   "metadata": {},
   "outputs": [],
   "source": [
    "electro_df.to_csv('clean_data.csv', index=False)"
   ]
  },
  {
   "cell_type": "code",
   "execution_count": 53,
   "metadata": {},
   "outputs": [
    {
     "name": "stdout",
     "output_type": "stream",
     "text": [
      "Data cleaning challenge - vCandidate.pdf\n",
      "analysis.ipynb\n",
      "clean_data.csv\n",
      "cleaning.ipynb\n",
      "electro_data.csv\n"
     ]
    }
   ],
   "source": [
    "!ls"
   ]
  },
  {
   "cell_type": "code",
   "execution_count": null,
   "metadata": {},
   "outputs": [],
   "source": []
  }
 ],
 "metadata": {
  "kernelspec": {
   "display_name": "Python 3",
   "language": "python",
   "name": "python3"
  },
  "language_info": {
   "codemirror_mode": {
    "name": "ipython",
    "version": 3
   },
   "file_extension": ".py",
   "mimetype": "text/x-python",
   "name": "python",
   "nbconvert_exporter": "python",
   "pygments_lexer": "ipython3",
   "version": "3.8.3"
  }
 },
 "nbformat": 4,
 "nbformat_minor": 4
}
